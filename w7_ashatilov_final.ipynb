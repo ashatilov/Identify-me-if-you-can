{
 "cells": [
  {
   "cell_type": "markdown",
   "metadata": {},
   "source": [
    "# Отчет о проекте «Идентификация интернет-пользователей»\n",
    "\n",
    "## Kaggle-соревнование \"Identify me if you can\"\n",
    "\\- I can in 67% of cases\n"
   ]
  },
  {
   "cell_type": "markdown",
   "metadata": {},
   "source": [
    "Сам ноутбук можно найти здесь: https://github.com/ashatilov/Identify-me-if-you-can"
   ]
  },
  {
   "cell_type": "markdown",
   "metadata": {},
   "source": [
    "# Цели и задачи проекта"
   ]
  },
  {
   "cell_type": "markdown",
   "metadata": {},
   "source": [
    "В этом проекте решается задача идентификации пользователя по нескольким посещенным им подряд сайтам - сессии пользователя.\n",
    "\n",
    "Пользователей всего 550, данные собраны с прокси-серверов Университета Блеза Паскаля."
   ]
  },
  {
   "cell_type": "markdown",
   "metadata": {},
   "source": [
    "Сырые данные train имеют очень простой вид: для каждого пользователя csv файл с информацией о времени посещения сайта и веб-сайте\n",
    "\n",
    "Тестовые данные уже собраны в пользовательские сессии с информацией о сайте и времени его посещения.  \n",
    "Длина сессии - до 10 сайтов с ограничением в 30 минут.  \n",
    "Всего имеется 41177 тестовых сессии.\n",
    "\n",
    "**Цель** - верно разметить принадлежность тестовых сессий пользователям  \n",
    "**Целевая метрика** – доля правильных ответов (categorization accuracy)."
   ]
  },
  {
   "cell_type": "markdown",
   "metadata": {},
   "source": [
    "# Предварительная подготовка данных"
   ]
  },
  {
   "cell_type": "markdown",
   "metadata": {},
   "source": [
    "Сырые данные можно разбить на сессии разной длины с разной длиной окна и ограничением по времени. Но т.к. тестовые данные у нас уже собраны в сессии длиной 10 и ограничением 30 минут, то в последующем мы можем только изменять длину окна для подготовки данных, получая при этом разное количество train сессий."
   ]
  },
  {
   "cell_type": "markdown",
   "metadata": {},
   "source": [
    "#### Необходимые импорты"
   ]
  },
  {
   "cell_type": "code",
   "execution_count": 1,
   "metadata": {
    "code_folding": []
   },
   "outputs": [],
   "source": [
    "import numpy as np\n",
    "import pandas as pd\n",
    "import os\n",
    "import re\n",
    "import pickle\n",
    "\n",
    "from sklearn.model_selection import train_test_split\n",
    "from sklearn.metrics import accuracy_score\n",
    "\n",
    "from matplotlib import pyplot as plt\n",
    "import seaborn as sns\n",
    "import plotly.plotly as py\n",
    "import plotly.graph_objs as go\n",
    "%matplotlib inline"
   ]
  },
  {
   "cell_type": "markdown",
   "metadata": {},
   "source": [
    "#### Код подготовки данных train"
   ]
  },
  {
   "cell_type": "code",
   "execution_count": 2,
   "metadata": {
    "code_folding": [],
    "collapsed": true
   },
   "outputs": [],
   "source": [
    "def prepare_train(session_length=10, window_size=10, time_limit=30):\n",
    "    # прочитаем все файлы из папки /train в один dataframe\n",
    "    if os.path.isfile('train_raw.pkl'):\n",
    "        with open('train_raw.pkl', 'rb') as f:\n",
    "            df = pickle.load(f)\n",
    "    else:\n",
    "        files = ['train/' + file for file in os.listdir('train/') if file.endswith('.csv')]\n",
    "        user_dfs = []\n",
    "        for file in files:\n",
    "            tmp = pd.read_csv(file, parse_dates=['timestamp'])\n",
    "            tmp['user_id'] = int(re.search('\\d+', file).group())\n",
    "            tmp = tmp.sort_values('timestamp')\n",
    "            user_dfs.append(tmp)\n",
    "        df = pd.concat(user_dfs)\n",
    "            \n",
    "        # добавим id сайта, используя уже готовый словарь, который идет вместе с данными\n",
    "        with open('site_dictionary.pkl', 'rb') as f:\n",
    "            sites_dict = pickle.load(f)\n",
    "        df['site_id'] = [sites_dict[site_name] for site_name in df['site']]\n",
    "\n",
    "        # сохраним данные в файл\n",
    "        with open('train_raw.pkl', 'wb') as f:\n",
    "            pickle.dump(df, f)\n",
    "      \n",
    "    # преобразование для нужного window_size\n",
    "    # создадим пустую матрицу сессий и вектор ответов - id пользователей\n",
    "    matrix_sites = np.empty((1, session_length), dtype='int32')\n",
    "    matrix_times = np.empty((1, session_length), dtype='datetime64[s]')\n",
    "    y = np.empty((1,), dtype=np.int32)\n",
    "\n",
    "    # соберем матрицу и вектор ответов по всем пользователям\n",
    "    for user_id in df.user_id.unique():\n",
    "        # рассмотрим вектор из id сайтов для каждого юзера\n",
    "        vect = df.loc[df['user_id'] == user_id].sort_values('timestamp')\n",
    "        vect_sites = vect['site_id'].values\n",
    "        vect_times = vect['timestamp'].values.astype('datetime64[s]')\n",
    "\n",
    "        # составим из него матрицу соответствующей длины сессии и длины окна\n",
    "        l = len(vect)            \n",
    "        tmp_sites = np.vstack([np.hstack([vect_sites[i:i+session_length],\n",
    "                                          np.repeat(0, 0 if (i + session_length) <= l\n",
    "                                                    else session_length - (l - i))])\n",
    "                               for i in range(l)[::window_size]])\n",
    "\n",
    "        tmp_times = np.vstack([np.hstack([vect_times[i:i+session_length],\n",
    "                                          np.repeat(np.datetime64('NaT'), 0 if (i + session_length) <= l\n",
    "                                                    else session_length - (l - i))])\n",
    "                               for i in range(l)[::window_size]])\n",
    "        \n",
    "        # соединим с общей матрицей\n",
    "        matrix_sites = np.vstack((matrix_sites, tmp_sites))\n",
    "        matrix_times = np.vstack((matrix_times, tmp_times))\n",
    "\n",
    "        # соединим вектор одного юзера с общим вектором ответов\n",
    "        y_user = np.full((tmp_sites.shape[0],), user_id, dtype=np.int32)\n",
    "        y = np.append(y, y_user)\n",
    "\n",
    "    # избавимся от ненужных начальных значений, полученных при создании матрицы и вектора\n",
    "    y = y[1:]  \n",
    "    matrix_sites = matrix_sites[1:,:]\n",
    "    matrix_times = matrix_times[1:,:]\n",
    "\n",
    "    # соберем вместе данные по сайтам и временам\n",
    "    df_sessions = pd.concat([pd.DataFrame(matrix_sites, dtype='int32'),\n",
    "                             pd.DataFrame(matrix_times, dtype='datetime64[s]'),\n",
    "                             pd.DataFrame(y)],\n",
    "                            axis=1, ignore_index=True)\n",
    "    # назовем столбцы\n",
    "    df_sessions.columns = (['site' + str(i) for i in range(1, session_length + 1)] +\n",
    "                           ['time' + str(i) for i in range(1, session_length + 1)] +\n",
    "                           ['user_id'])\n",
    "    df_sessions.index.name = 'session_id'\n",
    "    \n",
    "    if time_limit:\n",
    "    # обнулим сайты и времена, которые выходят за длину сессии в 30 минут (или другое значение)\n",
    "        for i in range(10, 1, -1):\n",
    "            tmp = df_sessions['time' + str(i)] - df_sessions['time1']\n",
    "            indices_to_null = np.where(tmp > np.timedelta64(time_limit,'m'))[0]\n",
    "            df_sessions = df_sessions.set_value(indices_to_null, 'site' + str(i), 0)\n",
    "            df_sessions = df_sessions.set_value(indices_to_null, 'time' + str(i), np.datetime64('NaT'))\n",
    "    \n",
    "    return df_sessions"
   ]
  },
  {
   "cell_type": "markdown",
   "metadata": {},
   "source": [
    "#### Код подготовки данных test"
   ]
  },
  {
   "cell_type": "code",
   "execution_count": 3,
   "metadata": {
    "code_folding": [],
    "collapsed": true
   },
   "outputs": [],
   "source": [
    "def prepare_test():\n",
    "    name = 'test_sessions.pkl'\n",
    "    if os.path.isfile(name):\n",
    "        with open(name, 'rb') as f:\n",
    "            test_df = pickle.load(f)\n",
    "    else:\n",
    "        test_df = pd.read_csv('test_sessions.csv', index_col='session_id')\n",
    "        test_sites = test_df[['site' + str(i) for i in range(1, 11)]].fillna(0).astype('int32')\n",
    "        test_times = test_df[['time' + str(i) for i in range(1, 11)]].fillna(np.datetime64('NaT')).astype('datetime64[s]')\n",
    "        test_df = pd.concat([test_sites, test_times], axis=1)\n",
    "        test_df['user_id'] = -1\n",
    "        with open(name, 'wb') as f:\n",
    "                pickle.dump(test_df, f)\n",
    "    return test_df"
   ]
  },
  {
   "cell_type": "markdown",
   "metadata": {},
   "source": [
    "### Результат подготовки"
   ]
  },
  {
   "cell_type": "markdown",
   "metadata": {},
   "source": [
    "Подготовим предварительные датасеты с разной шириной окна:"
   ]
  },
  {
   "cell_type": "code",
   "execution_count": 4,
   "metadata": {
    "code_folding": []
   },
   "outputs": [
    {
     "name": "stdout",
     "output_type": "stream",
     "text": [
      "CPU times: user 2min 54s, sys: 4.94 s, total: 2min 59s\n",
      "Wall time: 3min 1s\n"
     ]
    }
   ],
   "source": [
    "%%time\n",
    "# создадим предварительные датасеты для разной ширины окна\n",
    "!mkdir pre_datasets\n",
    "for window_size in range(1, 11):\n",
    "    name = 'pre_datasets/train_w' + str(window_size) + '.pkl'\n",
    "    if os.path.isfile(name):\n",
    "        continue\n",
    "    else:\n",
    "        tmp = prepare_train(window_size=window_size)\n",
    "        with open(name, 'wb') as f:\n",
    "            pickle.dump(tmp, f)"
   ]
  },
  {
   "cell_type": "markdown",
   "metadata": {},
   "source": [
    "Предварительные датасеты имеют следующий вид:"
   ]
  },
  {
   "cell_type": "code",
   "execution_count": 5,
   "metadata": {},
   "outputs": [
    {
     "data": {
      "text/html": [
       "<div>\n",
       "<table border=\"1\" class=\"dataframe\">\n",
       "  <thead>\n",
       "    <tr style=\"text-align: right;\">\n",
       "      <th></th>\n",
       "      <th>site1</th>\n",
       "      <th>site2</th>\n",
       "      <th>site3</th>\n",
       "      <th>site4</th>\n",
       "      <th>site5</th>\n",
       "      <th>site6</th>\n",
       "      <th>site7</th>\n",
       "      <th>site8</th>\n",
       "      <th>site9</th>\n",
       "      <th>site10</th>\n",
       "      <th>...</th>\n",
       "      <th>time2</th>\n",
       "      <th>time3</th>\n",
       "      <th>time4</th>\n",
       "      <th>time5</th>\n",
       "      <th>time6</th>\n",
       "      <th>time7</th>\n",
       "      <th>time8</th>\n",
       "      <th>time9</th>\n",
       "      <th>time10</th>\n",
       "      <th>user_id</th>\n",
       "    </tr>\n",
       "    <tr>\n",
       "      <th>session_id</th>\n",
       "      <th></th>\n",
       "      <th></th>\n",
       "      <th></th>\n",
       "      <th></th>\n",
       "      <th></th>\n",
       "      <th></th>\n",
       "      <th></th>\n",
       "      <th></th>\n",
       "      <th></th>\n",
       "      <th></th>\n",
       "      <th></th>\n",
       "      <th></th>\n",
       "      <th></th>\n",
       "      <th></th>\n",
       "      <th></th>\n",
       "      <th></th>\n",
       "      <th></th>\n",
       "      <th></th>\n",
       "      <th></th>\n",
       "      <th></th>\n",
       "      <th></th>\n",
       "    </tr>\n",
       "  </thead>\n",
       "  <tbody>\n",
       "    <tr>\n",
       "      <th>0</th>\n",
       "      <td>15</td>\n",
       "      <td>23</td>\n",
       "      <td>2</td>\n",
       "      <td>2</td>\n",
       "      <td>2</td>\n",
       "      <td>2</td>\n",
       "      <td>9</td>\n",
       "      <td>21</td>\n",
       "      <td>9</td>\n",
       "      <td>8</td>\n",
       "      <td>...</td>\n",
       "      <td>2013-06-12 10:22:56</td>\n",
       "      <td>2013-06-12 10:23:24</td>\n",
       "      <td>2013-06-12 10:23:25</td>\n",
       "      <td>2013-06-12 10:23:39</td>\n",
       "      <td>2013-06-12 10:24:34</td>\n",
       "      <td>2013-06-12 10:26:39</td>\n",
       "      <td>2013-06-12 10:26:39</td>\n",
       "      <td>2013-06-12 10:26:40</td>\n",
       "      <td>2013-06-12 10:33:23</td>\n",
       "      <td>1005</td>\n",
       "    </tr>\n",
       "    <tr>\n",
       "      <th>1</th>\n",
       "      <td>32</td>\n",
       "      <td>24</td>\n",
       "      <td>8</td>\n",
       "      <td>24</td>\n",
       "      <td>8</td>\n",
       "      <td>4</td>\n",
       "      <td>12</td>\n",
       "      <td>5</td>\n",
       "      <td>28</td>\n",
       "      <td>1</td>\n",
       "      <td>...</td>\n",
       "      <td>2013-06-12 10:33:32</td>\n",
       "      <td>2013-06-12 10:33:32</td>\n",
       "      <td>2013-06-12 10:33:33</td>\n",
       "      <td>2013-06-12 10:33:33</td>\n",
       "      <td>2013-06-12 10:33:33</td>\n",
       "      <td>2013-06-12 10:33:34</td>\n",
       "      <td>2013-06-12 10:33:35</td>\n",
       "      <td>2013-06-12 10:33:35</td>\n",
       "      <td>2013-06-12 10:33:44</td>\n",
       "      <td>1005</td>\n",
       "    </tr>\n",
       "    <tr>\n",
       "      <th>2</th>\n",
       "      <td>4</td>\n",
       "      <td>26</td>\n",
       "      <td>1</td>\n",
       "      <td>1</td>\n",
       "      <td>8</td>\n",
       "      <td>1</td>\n",
       "      <td>41</td>\n",
       "      <td>12</td>\n",
       "      <td>1</td>\n",
       "      <td>1</td>\n",
       "      <td>...</td>\n",
       "      <td>2013-06-12 10:33:45</td>\n",
       "      <td>2013-06-12 10:33:46</td>\n",
       "      <td>2013-06-12 10:33:58</td>\n",
       "      <td>2013-06-12 10:33:59</td>\n",
       "      <td>2013-06-12 10:34:04</td>\n",
       "      <td>2013-06-12 10:34:09</td>\n",
       "      <td>2013-06-12 10:34:10</td>\n",
       "      <td>2013-06-12 10:34:28</td>\n",
       "      <td>2013-06-12 10:34:36</td>\n",
       "      <td>1005</td>\n",
       "    </tr>\n",
       "  </tbody>\n",
       "</table>\n",
       "<p>3 rows × 21 columns</p>\n",
       "</div>"
      ],
      "text/plain": [
       "            site1  site2  site3  site4  site5  site6  site7  site8  site9  \\\n",
       "session_id                                                                  \n",
       "0              15     23      2      2      2      2      9     21      9   \n",
       "1              32     24      8     24      8      4     12      5     28   \n",
       "2               4     26      1      1      8      1     41     12      1   \n",
       "\n",
       "            site10   ...                 time2               time3  \\\n",
       "session_id           ...                                             \n",
       "0                8   ...   2013-06-12 10:22:56 2013-06-12 10:23:24   \n",
       "1                1   ...   2013-06-12 10:33:32 2013-06-12 10:33:32   \n",
       "2                1   ...   2013-06-12 10:33:45 2013-06-12 10:33:46   \n",
       "\n",
       "                         time4               time5               time6  \\\n",
       "session_id                                                               \n",
       "0          2013-06-12 10:23:25 2013-06-12 10:23:39 2013-06-12 10:24:34   \n",
       "1          2013-06-12 10:33:33 2013-06-12 10:33:33 2013-06-12 10:33:33   \n",
       "2          2013-06-12 10:33:58 2013-06-12 10:33:59 2013-06-12 10:34:04   \n",
       "\n",
       "                         time7               time8               time9  \\\n",
       "session_id                                                               \n",
       "0          2013-06-12 10:26:39 2013-06-12 10:26:39 2013-06-12 10:26:40   \n",
       "1          2013-06-12 10:33:34 2013-06-12 10:33:35 2013-06-12 10:33:35   \n",
       "2          2013-06-12 10:34:09 2013-06-12 10:34:10 2013-06-12 10:34:28   \n",
       "\n",
       "                        time10 user_id  \n",
       "session_id                              \n",
       "0          2013-06-12 10:33:23    1005  \n",
       "1          2013-06-12 10:33:44    1005  \n",
       "2          2013-06-12 10:34:36    1005  \n",
       "\n",
       "[3 rows x 21 columns]"
      ]
     },
     "execution_count": 5,
     "metadata": {},
     "output_type": "execute_result"
    }
   ],
   "source": [
    "tmp.head(3)"
   ]
  },
  {
   "cell_type": "markdown",
   "metadata": {},
   "source": [
    "# Создание дополнительных признаков"
   ]
  },
  {
   "cell_type": "markdown",
   "metadata": {},
   "source": [
    "Во время подготовки проекта было создано довольно много дополнительных признаков, некоторые из которых занимали определенное время для их создания, но не принесли пользы (или просто я не умею их готовить). В финальный отчет я решил их не включать: tfidf посещенных сайтов, домены разных уровней, tfidf для доменов разных уровней, доля посещения конкретного сайта каждым юзером в train относительно всех посещений данного сайта.\n",
    "\n",
    "Ниже приводится код для создания следующих признаков:\n",
    "- день недели начала сессии\n",
    "- час начала сессии\n",
    "- бинарный признак, показывающий выходной день или нет\n",
    "- длина сессии в секундах (время последнего сайта - время первого)\n",
    "- количество уникальных сайтов в сессии\n",
    "- относительное количество уникальных сайтов в сессии (кол-во уникальных / кол-во сайтов в сессии)\n",
    "- время нахождения на каждом сайте в сессии (кроме последнего)\n",
    "- среднее время нахождения на сайте в сессии\n",
    "- дата сессии до часа с one hot encoding - признак уже содержится во времени захода на первый сайт сессии. Будет добавлен при подготовки данных в vowpal wabbit, т.к. там его можно указать просто: например, '2014-01-25_9'."
   ]
  },
  {
   "cell_type": "markdown",
   "metadata": {},
   "source": [
    "#### Код подготовки вспомогательных данных"
   ]
  },
  {
   "cell_type": "code",
   "execution_count": 6,
   "metadata": {},
   "outputs": [],
   "source": [
    "# загрузим датасет train_raw (созданный в функции prepare_train), который имеет основые столбцы время-сайт-юзер\n",
    "with open('train_raw.pkl', 'rb') as f:\n",
    "    train_raw = pickle.load(f)\n",
    "\n",
    "# заранее объявим списки имен признаков для отдельных сайтов:\n",
    "# имена столбцов с данными о сайтах и времени посещения\n",
    "cols_site = ['site' + str(i) for i in range(1, 11)]\n",
    "cols_time = ['time' + str(i) for i in range(1, 11)]\n",
    "# имена столбцов с данными о времени пребывания на сайте\n",
    "cols_diff = ['diff' + str(i) for i in range(1, 10)]\n",
    "\n",
    "# загрузим готовый словарь с сайтами, который идет вместе с данными\n",
    "with open('site_dictionary.pkl', 'rb') as f:\n",
    "    sites_dict = pickle.load(f)\n",
    "# сделаем из него обратный ему:\n",
    "sites_dict = dict([(v, k) for k, v in sites_dict.items()])\n",
    "\n",
    "# создадим словарь с индексами юзеров от 1 до 550, чтобы далее использовать в vowpal wabbit\n",
    "# 1 - у чаще всего встречающегося и т.д.\n",
    "us_dict = dict(zip(train_raw.user_id.value_counts().index, range(1, 551)))\n",
    "\n",
    "# обратный ему словарь, для отправки решения на kaggle\n",
    "us_dict_inv = dict([(v, k) for k, v in us_dict.items()])"
   ]
  },
  {
   "cell_type": "markdown",
   "metadata": {},
   "source": [
    "Функция, возвращающая общий датасет (сначала строки train, потом строки test) с новыми признаками и длину валидационного/тестового датасета test_len"
   ]
  },
  {
   "cell_type": "markdown",
   "metadata": {},
   "source": [
    "#### Код подготовки датасета"
   ]
  },
  {
   "cell_type": "code",
   "execution_count": 8,
   "metadata": {
    "code_folding": []
   },
   "outputs": [],
   "source": [
    "def prepare_df(pre_file='pre_datasets/train_w5.pkl', valid=True):    \n",
    "    with open(pre_file, 'rb') as f:\n",
    "        df = pickle.load(f)\n",
    "               \n",
    "    if valid:\n",
    "        # разобъем его на train и valid\n",
    "        df, test_df = train_test_split(df, test_size=0.3, stratify=df.user_id)\n",
    "    else:\n",
    "        # если датасет для валидации не нужен, используем test\n",
    "        test_df = prepare_test()\n",
    "        \n",
    "    # соберем train и test вместе\n",
    "    test_len = test_df.shape[0]\n",
    "    df = pd.concat([df, test_df])\n",
    "    \n",
    "    # добавим признаки промежутков времени\n",
    "    for name, i, j in zip(['diff' + str(i) for i in range(1, 10)], cols_time[1:], cols_time[:-1]):\n",
    "        df[name] = (df[i] - df[j]) / np.timedelta64(1,'s')\n",
    "\n",
    "    # добавим признак длины сессии\n",
    "    df['session_timespan'] = ((df[cols_time].max(axis=1) - df[cols_time].min(axis=1)) / np.timedelta64(1,'s')).astype(np.int32)\n",
    "\n",
    "    # добавим признаки часа и дня минимального timestamp в сессии\n",
    "    df['start_hour'] = df[cols_time].min(axis=1).dt.hour\n",
    "    df['day_of_week'] = df[cols_time].min(axis=1).dt.dayofweek\n",
    "\n",
    "    # добавим признаки выходного дня\n",
    "    df['is_weekend'] = df['day_of_week'].apply(lambda x: x in [5,6]).astype(int)\n",
    "\n",
    "    # добавим признак количества уникальных сайтов в сессии\n",
    "    df['unique_sites'] = [len(set(i for i in row if i != 0)) for row in df[cols_site].values]\n",
    "    df['unique_sites_rel'] = [l / np.count_nonzero(row)\n",
    "                              for l, row in zip(df.unique_sites, df[cols_site].values)]\n",
    "\n",
    "    # признаки, связанные со временами нахождения на сайтах в сессии\n",
    "    # пропуски будут в сессиях с одним сайтом, заполним их нулями\n",
    "    df['diff_mean'] = df[cols_diff].mean(axis=1).fillna(0)\n",
    "    df['diff_median'] = df[cols_diff].median(axis=1).fillna(0)\n",
    "    df['diff_std'] = df[cols_diff].std(axis=1).fillna(0)\n",
    "    \n",
    "    return df, test_len"
   ]
  },
  {
   "cell_type": "markdown",
   "metadata": {},
   "source": [
    "# Визуальный анализ"
   ]
  },
  {
   "cell_type": "markdown",
   "metadata": {},
   "source": [
    "Подготовим полный датасет со всеми 550 юзерами из предварительных сессий с шириной окна 10, без валидационного датасета, чтобы посмотреть на все имеющиеся в train данные и сравнить их с тестовыми"
   ]
  },
  {
   "cell_type": "code",
   "execution_count": 9,
   "metadata": {},
   "outputs": [],
   "source": [
    "df, test_len = prepare_df(pre_file='pre_datasets/train_w10.pkl', valid=False)\n",
    "df_train, df_test = df.iloc[:-test_len, :], df.iloc[-test_len:, :]"
   ]
  },
  {
   "cell_type": "markdown",
   "metadata": {},
   "source": [
    "#### Код графика распределения длины сессий"
   ]
  },
  {
   "cell_type": "code",
   "execution_count": 10,
   "metadata": {
    "code_folding": []
   },
   "outputs": [],
   "source": [
    "def plot_session_timespan():\n",
    "    fig, axes = plt.subplots(nrows=1, ncols=2, figsize=(10, 5))\n",
    "    for idx, data, dname, color in zip([0, 1], [df_train, df_test], ['train', 'test'], ['b', 'g']): \n",
    "        ax = axes[idx]\n",
    "        data = data.session_timespan\n",
    "        ax.hist(data, weights=np.zeros_like(data) + 1. / data.size, label=dname,\n",
    "               bins=np.arange(0, 1801, 200), color=color, alpha=0.7)\n",
    "        ax.set_xlabel('Длина сессии, с')\n",
    "        ax.set_ylabel('Относитительное количество сессий')\n",
    "        ax.set_ylim(0, 1)\n",
    "        ax.set_yticks(np.arange(0, 1.1, 0.1))\n",
    "        ax.legend([dname])\n",
    "    plt.show()"
   ]
  },
  {
   "cell_type": "markdown",
   "metadata": {},
   "source": [
    "### График распределения длины сессий"
   ]
  },
  {
   "cell_type": "markdown",
   "metadata": {},
   "source": [
    "Посмотрим, как распределены продолжительности сессий пользователей в тренировочном и тестовом датасетах"
   ]
  },
  {
   "cell_type": "code",
   "execution_count": 11,
   "metadata": {},
   "outputs": [
    {
     "data": {
      "image/png": "[encoded data removed]",
      "text/plain": [
       "<matplotlib.figure.Figure at 0x7f2a12828a20>"
      ]
     },
     "metadata": {},
     "output_type": "display_data"
    }
   ],
   "source": [
    "plot_session_timespan()"
   ]
  },
  {
   "cell_type": "markdown",
   "metadata": {},
   "source": [
    "Как видно, сессии из тестового датасета отличаются по продолжительности - в нем меньше коротких и больше длинных сессий, сессии длиной до 200 секунд составляют около 60% от всех, а не 80%, как в train."
   ]
  },
  {
   "cell_type": "markdown",
   "metadata": {},
   "source": [
    "#### Код распределения сессий по часу начала"
   ]
  },
  {
   "cell_type": "code",
   "execution_count": 12,
   "metadata": {
    "code_folding": []
   },
   "outputs": [],
   "source": [
    "def plot_start_hour():\n",
    "    data = pd.DataFrame({'train': df_train.start_hour.value_counts() / df_train.shape[0],\n",
    "                       'test': df_test.start_hour.value_counts() / df_test.shape[0]})\n",
    "    data = data[['train', 'test']]\n",
    "    data['hour'] = data.index\n",
    "    data = pd.melt(data, id_vars=['hour'])\n",
    "    ax = sns.barplot(x='hour', y='value', hue='variable', data=data)\n",
    "    ax.legend(title=\"Датасет\", loc=\"best\")\n",
    "    ax.set(xlabel='Час начала сессии', ylabel='Относительное число сессий в датасете')\n",
    "    plt.show()"
   ]
  },
  {
   "cell_type": "markdown",
   "metadata": {},
   "source": [
    "### График распределения сессий по часу начала"
   ]
  },
  {
   "cell_type": "code",
   "execution_count": 13,
   "metadata": {
    "scrolled": false
   },
   "outputs": [
    {
     "data": {
      "image/png": "[encoded data removed]",
      "text/plain": [
       "<matplotlib.figure.Figure at 0x7f2a13072518>"
      ]
     },
     "metadata": {},
     "output_type": "display_data"
    }
   ],
   "source": [
    "plot_start_hour()"
   ]
  },
  {
   "cell_type": "markdown",
   "metadata": {},
   "source": [
    "Распределения часа начала сессии в тренировочном и тестовом датасетах очень похожи, почти не отличаются. Больше всего сессий начинается в 10 и 14 часов."
   ]
  },
  {
   "cell_type": "markdown",
   "metadata": {},
   "source": [
    "#### Код графика распределения сессий по дням недели"
   ]
  },
  {
   "cell_type": "code",
   "execution_count": 14,
   "metadata": {
    "code_folding": []
   },
   "outputs": [],
   "source": [
    "def plot_day_of_week():\n",
    "    data = pd.DataFrame({'train': df_train.day_of_week.value_counts() / df_train.shape[0],\n",
    "                       'test': df_test.day_of_week.value_counts() / df_test.shape[0]})\n",
    "    data = data[['train', 'test']]\n",
    "    data['day'] = data.index\n",
    "    data = pd.melt(data, id_vars=['day'])\n",
    "    ax = sns.barplot(x='day', y='value', hue='variable', data=data)\n",
    "    ax.legend(title=\"Датасет\", loc=\"best\")\n",
    "    ax.set(xlabel='День недели сессии', ylabel='Относительное число сессий в датасете')\n",
    "    plt.xticks(range(7), ['пн', 'вт', 'ср', 'чт', 'пт', 'сб', 'вс'])\n",
    "    plt.show()"
   ]
  },
  {
   "cell_type": "markdown",
   "metadata": {},
   "source": [
    "### График распределения сессий по дням недели"
   ]
  },
  {
   "cell_type": "code",
   "execution_count": 15,
   "metadata": {
    "scrolled": false
   },
   "outputs": [
    {
     "data": {
      "image/png": "[encoded data removed]",
      "text/plain": [
       "<matplotlib.figure.Figure at 0x7f2a10c402b0>"
      ]
     },
     "metadata": {},
     "output_type": "display_data"
    }
   ],
   "source": [
    "plot_day_of_week()"
   ]
  },
  {
   "cell_type": "markdown",
   "metadata": {},
   "source": [
    "Распределения сессий по дням недели в тренировочном и тестовом датасетах также очень похожи, почти не отличаются. Больше всего сессий начинается во вторник и пятницу."
   ]
  },
  {
   "cell_type": "markdown",
   "metadata": {},
   "source": [
    "### 20 самых популярных сайтов"
   ]
  },
  {
   "cell_type": "markdown",
   "metadata": {},
   "source": [
    "#### Код подготовки данных"
   ]
  },
  {
   "cell_type": "code",
   "execution_count": 16,
   "metadata": {},
   "outputs": [],
   "source": [
    "data_sites = pd.DataFrame({'train': (pd.Series(df_train[cols_site].values.ravel()).value_counts() /\n",
    "                           (df_train.shape[0]*10))[1:],\n",
    "                           'test': (pd.Series(df_test[cols_site].values.ravel()).value_counts() /\n",
    "                           (df_test.shape[0]*10))[1:]})\n",
    "data_sites = data_sites[['train', 'test']]\n",
    "top20_train = data_sites.sort_values(by='train', ascending=False).index[:20]\n",
    "top20_test = data_sites.sort_values(by='test', ascending=False).index[:20]"
   ]
  },
  {
   "cell_type": "markdown",
   "metadata": {},
   "source": [
    "Проверим, соответствует ли топ 20 сайтов train топ 20 сайтам test"
   ]
  },
  {
   "cell_type": "code",
   "execution_count": 17,
   "metadata": {},
   "outputs": [
    {
     "data": {
      "text/plain": [
       "True"
      ]
     },
     "execution_count": 17,
     "metadata": {},
     "output_type": "execute_result"
    }
   ],
   "source": [
    "set(top20_train) == set(top20_test)"
   ]
  },
  {
   "cell_type": "markdown",
   "metadata": {},
   "source": [
    "#### Код графика относительного числа посещений топ-20 сайтов"
   ]
  },
  {
   "cell_type": "code",
   "execution_count": 18,
   "metadata": {
    "code_folding": []
   },
   "outputs": [],
   "source": [
    "def plot_top20_sites(data_sites):\n",
    "    data_sites = data_sites.sort_values(by='train', ascending=False).iloc[:20, :]\n",
    "    data_sites['site'] = [sites_dict.get(site, 'no_site') for site in data_sites.index]\n",
    "    data_sites = pd.melt(data_sites, id_vars=['site'])\n",
    "    ax = sns.barplot(x='site', y='value', hue='variable', data=data_sites)\n",
    "    ax.legend(title=\"Датасет\", loc=\"best\")\n",
    "    ax.set(xlabel='Сайт', ylabel='Относительное число среди\\n всех сайтов в датасете')\n",
    "    plt.xticks(rotation=90)\n",
    "    plt.show()"
   ]
  },
  {
   "cell_type": "markdown",
   "metadata": {},
   "source": [
    "### График  относительного числа посещений топ-20 сайтов"
   ]
  },
  {
   "cell_type": "code",
   "execution_count": 19,
   "metadata": {},
   "outputs": [
    {
     "data": {
      "image/png": "[encoded data removed]",
      "text/plain": [
       "<matplotlib.figure.Figure at 0x7f2a130a1a20>"
      ]
     },
     "metadata": {},
     "output_type": "display_data"
    }
   ],
   "source": [
    "plot_top20_sites(data_sites)"
   ]
  },
  {
   "cell_type": "markdown",
   "metadata": {},
   "source": [
    "Топ-20 самых часто посещаемых сайтов обеих датасетов совпадают (но не по порядку), и в целом частоты заходов на эти сайты похожи."
   ]
  },
  {
   "cell_type": "markdown",
   "metadata": {},
   "source": [
    "### 20 самых частых дат в сессиях"
   ]
  },
  {
   "cell_type": "markdown",
   "metadata": {},
   "source": [
    "#### Код подготовки данных"
   ]
  },
  {
   "cell_type": "code",
   "execution_count": 20,
   "metadata": {
    "collapsed": true
   },
   "outputs": [],
   "source": [
    "data_dates = pd.DataFrame({'train': df_train.time1.dt.date.astype(str).value_counts() / df_train.shape[0],\n",
    "                           'test': df_test.time1.dt.date.astype(str).value_counts() / df_test.shape[0]})\n",
    "data_dates = data_dates[['train', 'test']]\n",
    "top20_train = data_dates.sort_values(by='train', ascending=False).index[:30]\n",
    "top20_test = data_dates.sort_values(by='test', ascending=False).index[:30]"
   ]
  },
  {
   "cell_type": "markdown",
   "metadata": {},
   "source": [
    "Проверим, соответствует ли топ 20 сайтов train топ 20 сайтам test"
   ]
  },
  {
   "cell_type": "code",
   "execution_count": 21,
   "metadata": {
    "scrolled": true
   },
   "outputs": [
    {
     "data": {
      "text/plain": [
       "False"
      ]
     },
     "execution_count": 21,
     "metadata": {},
     "output_type": "execute_result"
    }
   ],
   "source": [
    "set(top20_train) == set(top20_test)"
   ]
  },
  {
   "cell_type": "markdown",
   "metadata": {},
   "source": [
    "Топ-20 популярных дней для train и test отличаются, построим график для топ-20 популярных дней train"
   ]
  },
  {
   "cell_type": "markdown",
   "metadata": {},
   "source": [
    "#### Код графика относительного числа топ-20 дней"
   ]
  },
  {
   "cell_type": "code",
   "execution_count": 22,
   "metadata": {
    "code_folding": []
   },
   "outputs": [],
   "source": [
    "def plot_top20_sites(data_dates):\n",
    "    data_dates = data_dates.sort_values(by='train', ascending=False)\n",
    "    data_dates['day'] = data_dates.index\n",
    "    data_dates = pd.melt(data_dates.iloc[:20,:], id_vars=['day'])\n",
    "    ax = sns.barplot(x='day', y='value', hue='variable', data=data_dates)\n",
    "    ax.legend(title=\"Датасет\", loc=\"best\")\n",
    "    ax.set(xlabel='День', ylabel='Относительное число среди\\n всех дней в датасете')\n",
    "    plt.xticks(rotation=90)\n",
    "    plt.show()"
   ]
  },
  {
   "cell_type": "markdown",
   "metadata": {},
   "source": [
    "### График  относительного числа топ-20 дней"
   ]
  },
  {
   "cell_type": "code",
   "execution_count": 23,
   "metadata": {},
   "outputs": [
    {
     "data": {
      "image/png": "[encoded data removed]",
      "text/plain": [
       "<matplotlib.figure.Figure at 0x7f2a12821940>"
      ]
     },
     "metadata": {},
     "output_type": "display_data"
    }
   ],
   "source": [
    "plot_top20_sites(data_dates)"
   ]
  },
  {
   "cell_type": "markdown",
   "metadata": {},
   "source": [
    "Хоть топ-20 среди самых популярных дней и отличаются, в целом же частоты похожи. Т.е. сессии в test взяты из тех же дней, что и сессии train."
   ]
  },
  {
   "cell_type": "markdown",
   "metadata": {},
   "source": [
    "### График сессий пользователя в координатах день недели - час"
   ]
  },
  {
   "cell_type": "markdown",
   "metadata": {},
   "source": [
    "Составим для каждого пользователя матрицу 17х7 (7-23ч на 7 дней недели) в каждой ячейке которой будет относительное количество сессий пользователя в этот час и этот день:"
   ]
  },
  {
   "cell_type": "markdown",
   "metadata": {},
   "source": [
    "#### Код подготовки данных"
   ]
  },
  {
   "cell_type": "code",
   "execution_count": 24,
   "metadata": {},
   "outputs": [],
   "source": [
    "user_matrices = {}\n",
    "for user in us_dict:\n",
    "    # добавим таблицу час - день недели начала сессии для каждого юзера\n",
    "    z = df_train[df_train.user_id == user].pivot_table(values='user_id', index='start_hour',\n",
    "                                                       columns='day_of_week', aggfunc=np.count_nonzero)\n",
    "    zero_df = pd.DataFrame(np.zeros((17, 7)), columns=np.arange(7), index=np.arange(7, 24))\n",
    "    z = zero_df.add(z, fill_value=0).values\n",
    "    z = z / z.sum()\n",
    "    user_matrices[user] = z"
   ]
  },
  {
   "cell_type": "markdown",
   "metadata": {},
   "source": [
    "#### Код графика паттернов топ-10 пользователей"
   ]
  },
  {
   "cell_type": "code",
   "execution_count": 25,
   "metadata": {
    "code_folding": []
   },
   "outputs": [],
   "source": [
    "# соберем топ-10 пользователей по количеству сессий\n",
    "top10_users = [us_dict_inv[i] for i in range(1, 11)]\n",
    "data = [go.Heatmap(z=user_matrices[user],\n",
    "                         x=['пн', 'вт', 'ср', 'чт', 'пт', 'сб', 'вс'],\n",
    "                         y=np.arange(7, 24),\n",
    "                         colorbar=go.ColorBar(title='Частота'),\n",
    "                         colorscale='Pastel2',\n",
    "                         name='User ' + str(user),\n",
    "                         visible=False if user != 3165 else True) for user in top10_users]\n",
    "drop_menus = []\n",
    "for i, user in enumerate(top10_users):\n",
    "    drop_menus.append(dict(args=['visible', [False]*i + [True] + [False]*(9-i)],\n",
    "                           label='User ' + str(user),\n",
    "                           method='restyle'))\n",
    "    \n",
    "layout = go.Layout(title='Сессии пользователя по дням недели и часам',\n",
    "                   width=700, height=600,\n",
    "                   autosize=False,\n",
    "                   xaxis=dict(title='День недели'),\n",
    "                   yaxis=dict(tickvals=np.arange(7, 24), title='Час'),\n",
    "                   updatemenus=list([dict(x = -0.15,\n",
    "                                          y = 1,\n",
    "                                          yanchor = 'top',\n",
    "                                          buttons = drop_menus,\n",
    "                                          type='buttons')]))\n",
    "\n",
    "fig = go.Figure(data=data, layout=layout)"
   ]
  },
  {
   "cell_type": "markdown",
   "metadata": {},
   "source": [
    "### График топ-10 пользователей по дням недели и часам"
   ]
  },
  {
   "cell_type": "markdown",
   "metadata": {},
   "source": [
    "Построим графики heatmap в осях день недели - час с возможностью выбора пользователя (из топ-10 по количеству сессий)"
   ]
  },
  {
   "cell_type": "code",
   "execution_count": 26,
   "metadata": {},
   "outputs": [
    {
     "data": {
      "text/html": [
       "<iframe id=\"igraph\" scrolling=\"no\" style=\"border:none;\" seamless=\"seamless\" src=\"https://plot.ly/~shurik9/44.embed\" height=\"600px\" width=\"700px\"></iframe>"
      ],
      "text/plain": [
       "<plotly.tools.PlotlyDisplay object>"
      ]
     },
     "execution_count": 26,
     "metadata": {},
     "output_type": "execute_result"
    }
   ],
   "source": [
    "py.iplot(fig, filename='top10_heatmaps')"
   ]
  },
  {
   "cell_type": "markdown",
   "metadata": {},
   "source": [
    "Как видно из графиков, паттерны пользователей заметно отличаются, но встречаются, конечно, и очень похожие (2824 и 2336).  \n",
    "Таким образом, признаки дня недели, часа, а также признаки день_недели-час (17*7=119 признаков с применением one hot encoding) должны быть полезны в модели."
   ]
  },
  {
   "cell_type": "markdown",
   "metadata": {},
   "source": [
    "# Преобразование данных для vowpal wabbit"
   ]
  },
  {
   "cell_type": "markdown",
   "metadata": {},
   "source": [
    "Приведем данные к формату vowpal wabbit"
   ]
  },
  {
   "cell_type": "markdown",
   "metadata": {},
   "source": [
    "#### Код преобразования данных"
   ]
  },
  {
   "cell_type": "markdown",
   "metadata": {},
   "source": [
    "Подготовка строк для записи в файл:"
   ]
  },
  {
   "cell_type": "code",
   "execution_count": 27,
   "metadata": {
    "code_folding": [],
    "collapsed": true
   },
   "outputs": [],
   "source": [
    "def prepare_vw(df, test_len):  \n",
    "    sites_lines = ['|Sites ' + ' '.join([i for i in row if i != '0'])\n",
    "                   for row in df[cols_site].values.astype('str').tolist()]\n",
    "    \n",
    "    dates_lines = ['|A_date ' + i + '_' + h for i, h in zip(df['time1'].dt.date.apply(str),\n",
    "                                                            df.start_hour.astype(str))]\n",
    "    day_lines = ['|Day ' + i for i in (df.day_of_week + 1).astype(str)]\n",
    "    hour_lines = ['|Hour ' + i for i in df.start_hour.astype(str)]\n",
    "    weekend_lines = ['|Weekend ' + (i if i == '1' else '') for i in (df.is_weekend).astype(str)]\n",
    "    \n",
    "    unique_lines = ['|Unique ' + i for i in (df.unique_sites).astype(str)]\n",
    "    rel_unique_lines = ['|unique_rel val:' + i for i in (df.unique_sites_rel).astype(str)]\n",
    "    \n",
    "    length_lines = ['|Length len:' + i for i in df.session_timespan.astype('str')]\n",
    "    length_lines_log = ['|length_log len:' + str(np.log(i) if i > 0 else -1) for i in df.session_timespan]\n",
    "    \n",
    "    diff_lines = ['|diff mean:' + mean + ' med:' + med + ' std:' + std\n",
    "                  for mean, med, std in zip(df.diff_mean.astype(str),\n",
    "                                            df.diff_median.astype(str),\n",
    "                                            df.diff_std.astype(str))]\n",
    "\n",
    "    all_lines = [' '.join(feats) for feats in zip(sites_lines, dates_lines,\n",
    "                                                  day_lines, hour_lines, weekend_lines,\n",
    "                                                  unique_lines, rel_unique_lines,\n",
    "                                                  length_lines, length_lines_log, diff_lines)]\n",
    "    train_lines = all_lines[:-test_len]\n",
    "    test_lines = all_lines[-test_len:]\n",
    "    \n",
    "    return train_lines, test_lines"
   ]
  },
  {
   "cell_type": "markdown",
   "metadata": {},
   "source": [
    "Запись train и test датасетов для vowpal wabbit в файлы:"
   ]
  },
  {
   "cell_type": "code",
   "execution_count": 28,
   "metadata": {
    "code_folding": []
   },
   "outputs": [],
   "source": [
    "def write_vw(train_lines, test_lines, y_all, name_train, name_test):\n",
    "    with open(name_test, 'w') as f:\n",
    "        f.writelines([' ' + line + '\\n' for line in test_lines])\n",
    "\n",
    "    train_lines = [y + ' ' + line + '\\n'\n",
    "                   for y, line in zip(y_all.astype(str).tolist(), train_lines)]\n",
    "    np.random.shuffle(train_lines)\n",
    "\n",
    "    with open(name_train, 'w') as f:\n",
    "        f.writelines(train_lines)"
   ]
  },
  {
   "cell_type": "markdown",
   "metadata": {},
   "source": [
    "### Результат пребразования"
   ]
  },
  {
   "cell_type": "markdown",
   "metadata": {},
   "source": [
    "Пример строки из датасета train (test отличается только отсутствием label в начале:\n",
    "\n",
    "`430 |Sites 12659 3 101 584 511 11 12659 12659 41 32 |A_date 2014-01-25_9 |Day 6 |Hour 9 |Weekend 1 |Unique 8 |unique_rel val:0.8 |Length len:3 |length_log len:1.09861228867 |diff mean:0.333333333333 med:0.0 std:0.5`"
   ]
  },
  {
   "cell_type": "markdown",
   "metadata": {},
   "source": [
    "# Выбор ширины окна"
   ]
  },
  {
   "cell_type": "markdown",
   "metadata": {},
   "source": [
    "Подготовим train и valid датасеты для разной ширины окна сессии"
   ]
  },
  {
   "cell_type": "code",
   "execution_count": 30,
   "metadata": {},
   "outputs": [
    {
     "name": "stdout",
     "output_type": "stream",
     "text": [
      "Datasets for window 1 done\n",
      "Datasets for window 2 done\n",
      "Datasets for window 3 done\n",
      "Datasets for window 4 done\n",
      "Datasets for window 5 done\n",
      "Datasets for window 6 done\n",
      "Datasets for window 7 done\n",
      "Datasets for window 8 done\n",
      "Datasets for window 9 done\n",
      "Datasets for window 10 done\n",
      "CPU times: user 5min 14s, sys: 4.62 s, total: 5min 18s\n",
      "Wall time: 5min 24s\n"
     ]
    }
   ],
   "source": [
    "%%time\n",
    "!mkdir valid\n",
    "for i in range(1, 11):\n",
    "    # загрузим pandas датафреймы для нужной ширины окна\n",
    "    df, test_len = prepare_df(pre_file='pre_datasets/train_w' + str(i) + '.pkl', valid=True)\n",
    "    y_all = df.user_id.apply(lambda x: us_dict.get(x, -1))\n",
    "    # сохраним ответы для валидационного датасета\n",
    "    y_true = y_all[-test_len:]\n",
    "    with open('valid/y_true_w' + str(i) + '.pkl', 'wb') as f:\n",
    "        pickle.dump(y_true, f)\n",
    "    # подготовим и запишем датасеты в формате vw\n",
    "    train_lines, test_lines = prepare_vw(df, test_len)\n",
    "    write_vw(train_lines, test_lines, y_all, 'valid/train_w' + str(i), 'valid/valid_w' + str(i))\n",
    "    print('Datasets for window {} done'.format(i))"
   ]
  },
  {
   "cell_type": "markdown",
   "metadata": {},
   "source": [
    "Посмотрим, какая точность получится при каждой ширине окна на признаках посещенных сайтов"
   ]
  },
  {
   "cell_type": "code",
   "execution_count": 31,
   "metadata": {},
   "outputs": [
    {
     "name": "stdout",
     "output_type": "stream",
     "text": [
      "Window 1 accuracy: 0.469875\n",
      "Window 2 accuracy: 0.451166\n",
      "Window 3 accuracy: 0.437414\n",
      "Window 4 accuracy: 0.428769\n",
      "Window 5 accuracy: 0.405439\n",
      "Window 6 accuracy: 0.389237\n",
      "Window 7 accuracy: 0.378678\n",
      "Window 8 accuracy: 0.353039\n",
      "Window 9 accuracy: 0.340647\n",
      "Window 10 accuracy: 0.317531\n",
      "CPU times: user 19.6 s, sys: 1.18 s, total: 20.8 s\n",
      "Wall time: 4min 58s\n"
     ]
    }
   ],
   "source": [
    "%%time\n",
    "window_scores = []\n",
    "for i in range(1, 11):\n",
    "    train = 'valid/train_w' + str(i)\n",
    "    model = 'valid/model_w' + str(i)\n",
    "    valid = 'valid/valid_w' + str(i)\n",
    "    pred = 'valid/pred_w' + str(i)\n",
    "    feats = '--keep S'\n",
    "    \n",
    "    !vw --oaa 550 --passes $i -d $train -f $model -c -k -b 29 \\\n",
    "    --quiet --holdout_off --random_seed 19 \\\n",
    "    --loss_function hinge $feats\n",
    "    \n",
    "    !vw -i $model -t -d $valid -p $pred $feats --quiet\n",
    "    \n",
    "    pred = np.loadtxt(pred, dtype=int)\n",
    "    with open('valid/y_true_w' + str(i) + '.pkl', 'rb') as f:\n",
    "        y_true = pickle.load(f)\n",
    "    score = accuracy_score(pred, y_true.values)\n",
    "    window_scores.append((i, score))\n",
    "    print('Window {0} accuracy: {1:.6f}'.format(i, score)) "
   ]
  },
  {
   "cell_type": "markdown",
   "metadata": {},
   "source": [
    "Как видно, чем меньше окно, тем лучше результат. Но это скорее всего объясняется тем, что данных при этом больше, и сессии больше совпадают. На практике при отправке предсказаний для тестового датасета на kaggle, такого результата не было, и я впоследствии остановился посередине - на окне 5."
   ]
  },
  {
   "cell_type": "markdown",
   "metadata": {},
   "source": [
    "# Отбор признаков, добавление взаимодействий признаков"
   ]
  },
  {
   "cell_type": "markdown",
   "metadata": {},
   "source": [
    "Vowpal wabbit позволяет с помощью аргументов командной строки и первой буквы namespace признаков управлять тем, какие признаки использовать, какие игнорировать, и какие взаимодействия между ними включать в модель:\n",
    "- --keep arg - какие признаки оставить в модели, остальные игнорируются\n",
    "- --ignore arg - какие признаки игнорировать, остальные остаются\n",
    "- --interactions - какие взаимодействия между признаками включить в модель, для любого кол-ва признаков (а также -q для двух и --cubic для трех)"
   ]
  },
  {
   "cell_type": "markdown",
   "metadata": {},
   "source": [
    "#### Код функций для отбора"
   ]
  },
  {
   "cell_type": "code",
   "execution_count": 32,
   "metadata": {
    "collapsed": true
   },
   "outputs": [],
   "source": [
    "def vw_predict(keep, ignore, interactions, window=10, passes=3,\n",
    "               model='tmp/model_tmp', pred='tmp/pred'):\n",
    "    train = 'valid/train_w' + str(window)\n",
    "    valid = 'valid/valid_w' + str(window)\n",
    "    if keep:\n",
    "        keep = '--keep ' + keep\n",
    "    if interactions:\n",
    "        interactions = '--interactions ' + interactions\n",
    "    if ignore:\n",
    "        ignore = '--ignore ' + ignore\n",
    "    feats = ' '.join([i for i in [keep, ignore, interactions] if i])\n",
    "    \n",
    "    !vw --oaa 550 --passes $passes -d $train -f $model -c -k -b 29 \\\n",
    "    --quiet --holdout_off --random_seed 19 \\\n",
    "    --loss_function hinge $feats\n",
    "    \n",
    "    !vw -i $model -t -d $valid -p $pred $feats --quiet\n",
    "    \n",
    "    pred = np.loadtxt(pred, dtype=int)\n",
    "    with open('valid/y_true_w' + str(window) + '.pkl', 'rb') as f:\n",
    "        y_true = pickle.load(f)\n",
    "    score = accuracy_score(pred, y_true.values)\n",
    "    return score"
   ]
  },
  {
   "cell_type": "code",
   "execution_count": 33,
   "metadata": {
    "collapsed": true
   },
   "outputs": [],
   "source": [
    "all_features = 'SDHAWUuLld'"
   ]
  },
  {
   "cell_type": "code",
   "execution_count": 34,
   "metadata": {
    "scrolled": false
   },
   "outputs": [],
   "source": [
    "def feature_select():\n",
    "    features = all_features\n",
    "    basic_score = vw_predict(features, '', '')\n",
    "    print('basic score:', '{} {}'.format(features, basic_score), '*' * 80, sep='\\n')\n",
    "    while True:\n",
    "        feat_dict = {}\n",
    "        for feat in features:\n",
    "            new_features = ''.join(set(features) - {feat})\n",
    "            score = vw_predict('', feat, '')\n",
    "            feat_dict[new_features] = score\n",
    "            print('--keep', new_features, '--ignore', feat, score)\n",
    "        max_feats_score = sorted(feat_dict.items(), key=lambda x: -x[1])[0]\n",
    "        if max_feats_score[1] > basic_score:\n",
    "            features = max_feats_score[0]\n",
    "            basic_score = max_feats_score[1]\n",
    "            print('*' * 80, 'new basic score:', '{} {}'.format(features, basic_score), '*' * 80, sep='\\n')\n",
    "        else:\n",
    "            break\n",
    "    print('*' * 80)\n",
    "    print('Final features: ', features)\n",
    "    print('Final score: ', basic_score)"
   ]
  },
  {
   "cell_type": "markdown",
   "metadata": {},
   "source": [
    "### Выполнение отбора"
   ]
  },
  {
   "cell_type": "markdown",
   "metadata": {},
   "source": [
    "Проверим, включение каких признаков ухудшает модель на датасете с окном 10:"
   ]
  },
  {
   "cell_type": "code",
   "execution_count": 35,
   "metadata": {},
   "outputs": [
    {
     "name": "stdout",
     "output_type": "stream",
     "text": [
      "basic score:\n",
      "SDHAWUuLld 0.5501520884338601\n",
      "********************************************************************************\n",
      "--keep DlLUHWdAu --ignore S 0.298204614586\n",
      "--keep lLUHWdASu --ignore D 0.546628088137\n",
      "--keep DlLUWdASu --ignore H 0.545960382818\n",
      "--keep DlLUHWdSu --ignore A 0.390496327621\n",
      "--keep DlLUHdASu --ignore W 0.549781141034\n",
      "--keep DlLHWdASu --ignore U 0.544624972179\n",
      "--keep DlLUHWdAS --ignore u 0.551264930633\n",
      "--keep DlUHWdASu --ignore L 0.549002151495\n",
      "--keep DLUHWdASu --ignore l 0.550411751614\n",
      "--keep DlLUHWASu --ignore d 0.549076340975\n",
      "********************************************************************************\n",
      "new basic score:\n",
      "DlLUHWdAS 0.5512649306328362\n",
      "********************************************************************************\n",
      "--keep lLUHWdAS --ignore D 0.546628088137\n",
      "--keep DLUHWdAS --ignore l 0.550411751614\n",
      "--keep DlUHWdAS --ignore L 0.549002151495\n",
      "--keep DlLHWdAS --ignore U 0.544624972179\n",
      "--keep DlLUWdAS --ignore H 0.545960382818\n",
      "--keep DlLUHdAS --ignore W 0.549781141034\n",
      "--keep DlLUHWAS --ignore d 0.549076340975\n",
      "--keep DlLUHWdS --ignore A 0.390496327621\n",
      "--keep DlLUHWdA --ignore S 0.298204614586\n",
      "********************************************************************************\n",
      "Final features:  DlLUHWdAS\n",
      "Final score:  0.551264930633\n"
     ]
    }
   ],
   "source": [
    "feature_select()"
   ]
  },
  {
   "cell_type": "markdown",
   "metadata": {},
   "source": [
    "Видимо, лучше игнорировать относительное количество уникальных сайтов в сессии, но разница при этом незначительная и скорее всего это случайный результат, т.к. при этом же используются признаки и логарифма длины сессии, и длины в секундах."
   ]
  },
  {
   "cell_type": "markdown",
   "metadata": {},
   "source": [
    "Далее можно поперебирать все взаимодействия между признаками и добавлять их к модели, но это очень долго и не нужно (хотя, можно попробовать на меньшем числе пользователей). Если посмотреть на отбор признаков, то можно заметить, что самые большие проседания в accuracy были при игнорировании таких признаков, как:\n",
    "- S - посещенные сайты\n",
    "- A - дата сессии до часа (например, 2014-01-25_9)\n",
    "\n",
    "А также при визуальном анализе выяснилось, что пользователи достаточно отличаются по поведению в разные дни недели и часы:\n",
    "- D - день недели сессии\n",
    "- H - час сессии\n",
    "\n",
    "Посмотрим, как добавление взаимодействий между этими признаками повлияет на точность:"
   ]
  },
  {
   "cell_type": "code",
   "execution_count": 37,
   "metadata": {},
   "outputs": [
    {
     "name": "stdout",
     "output_type": "stream",
     "text": [
      "basic score:\n",
      "HADUWSdlu 0.549002151494918\n",
      "********************************************************************************\n",
      "--interact SA 0.617738704652\n",
      "--interact DH 0.550893983233\n",
      "--interact SAD 0.618517694191\n",
      "--interact SAH 0.617961273091\n",
      "--interact SADH 0.618109652051\n",
      "CPU times: user 6.58 s, sys: 668 ms, total: 7.25 s\n",
      "Wall time: 2min 28s\n"
     ]
    }
   ],
   "source": [
    "%%time\n",
    "features = 'HADUWSdlu'\n",
    "basic_score = vw_predict(features, '', '')\n",
    "print('basic score:', '{} {}'.format(features, basic_score), '*' * 80, sep='\\n')\n",
    "for interact in ['SA', 'DH', 'SAD', 'SAH', 'SADH']:\n",
    "    print('--interact ' + interact, vw_predict(features, '', interact))"
   ]
  },
  {
   "cell_type": "markdown",
   "metadata": {},
   "source": [
    "Похоже, что лучше всего на модели сказывается добавление взаимодействий между признаками посещенных сайтов, даты сессии и дня недели (возможно, еще и часа, результаты при этом не сильно отличаются). Это логично, т.к. сессии для train и test взяты из одних дней, а в конкретный день конкретный юзер скорее всего посещал определенные сайты и каждый сайт, скорее всего не по одному разу."
   ]
  },
  {
   "cell_type": "markdown",
   "metadata": {},
   "source": [
    "# Финальная модель"
   ]
  },
  {
   "cell_type": "markdown",
   "metadata": {},
   "source": [
    "Сделаем предсказание для тестового датасета на основе:\n",
    "- все данные train с шириной окна 5 (установлено опытным путем при отправке на kaggle)\n",
    "- все признаки\n",
    "- добавление взаимодействий между признаками посещенных сайтов (S), даты сессии (A), часа (H) и дня недели (D)\n",
    "- функция потерь logistic (установлено позднее опытным путем), но при ней модель обучается в разы дольше, чем при использовании hinge"
   ]
  },
  {
   "cell_type": "code",
   "execution_count": 38,
   "metadata": {
    "scrolled": false
   },
   "outputs": [
    {
     "name": "stdout",
     "output_type": "stream",
     "text": [
      "creating features for following interactions: SADH \n",
      "final_regressor = tmp/model\n",
      "Num weight bits = 29\n",
      "learning rate = 0.5\n",
      "initial_t = 0\n",
      "power_t = 0.5\n",
      "decay_learning_rate = 1\n",
      "creating cache_file = tmp/train_w5.cache\n",
      "Reading datafile = tmp/train_w5\n",
      "num sources = 1\n",
      "average  since         example        example  current  current  current\n",
      "loss     last          counter         weight    label  predict features\n",
      "1.000000 1.000000            1            1.0      317        1       29\n",
      "1.000000 1.000000            2            2.0       42      317       30\n",
      "1.000000 1.000000            4            4.0        5      423       31\n",
      "1.000000 1.000000            8            8.0      143        5       31\n",
      "1.000000 1.000000           16           16.0       38      423       31\n",
      "1.000000 1.000000           32           32.0        6      198       31\n",
      "0.968750 0.937500           64           64.0      134        1       31\n",
      "0.960938 0.953125          128          128.0      214        3       31\n",
      "0.929688 0.898438          256          256.0      248        2       31\n",
      "0.904297 0.878906          512          512.0      192      193       32\n",
      "0.875000 0.845703         1024         1024.0      268        4       30\n",
      "0.842285 0.809570         2048         2048.0        4        4       29\n",
      "0.787598 0.732910         4096         4096.0      207        5       31\n",
      "0.732178 0.676758         8192         8192.0      156      157       31\n",
      "0.657288 0.582397        16384        16384.0        4        4       30\n",
      "0.574341 0.491394        32768        32768.0       36       36       31\n",
      "0.486771 0.399200        65536        65536.0      245      245       31\n",
      "0.404678 0.322586       131072       131072.0      142      142       31\n",
      "0.310745 0.216812       262144       262144.0      183      183       31\n",
      "0.242594 0.174442       524288       524288.0      209      209       30\n",
      "\n",
      "finished run\n",
      "number of examples per pass = 179459\n",
      "passes used = 4\n",
      "weighted example sum = 717836.000000\n",
      "weighted label sum = 0.000000\n",
      "average loss = 0.216250\n",
      "total feature number = 21426920\n",
      "WARNING: model file has set of {-q, --cubic, --interactions} settings stored, but they'll be OVERRIDEN by set of {-q, --cubic, --interactions} settings from command line.\n",
      "CPU times: user 49.6 s, sys: 3.81 s, total: 53.4 s\n",
      "Wall time: 15min 45s\n"
     ]
    }
   ],
   "source": [
    "%%time\n",
    "# загрузим pandas датафреймы для нужной ширины окна\n",
    "df, test_len = prepare_df(pre_file='pre_datasets/train_w5.pkl', valid=False)\n",
    "y_all = df.user_id.apply(lambda x: us_dict.get(x, -1))\n",
    "\n",
    "# подготовим и запишем датасеты в формате vw\n",
    "train_lines, test_lines = prepare_vw(df, test_len)\n",
    "write_vw(train_lines, test_lines, y_all, 'tmp/train_w5', 'tmp/test_w5')\n",
    "\n",
    "# обучение модели\n",
    "!vw --oaa 550 --passes 4 -d tmp/train_w5 -f tmp/model -c -k -b 29 \\\n",
    "--holdout_off --random_seed 19 \\\n",
    "--loss_function logistic --interactions SADH\n",
    "\n",
    "# построение предсказаний\n",
    "!vw -i tmp/model -t -d tmp/test_w5 -p tmp/pred_w5 --interactions SADH --quiet"
   ]
  },
  {
   "cell_type": "code",
   "execution_count": 40,
   "metadata": {},
   "outputs": [],
   "source": [
    "# сохранить для отправки на kaggle\n",
    "pred = np.loadtxt('tmp/pred_w5', dtype=int)\n",
    "pd.DataFrame(np.vstack((np.arange(1, len(pred)+1), [us_dict_inv[i] for i in pred])).T,\n",
    "             index=None, columns=['session_id', 'user_id']).to_csv('pred_final.csv', index=None)"
   ]
  },
  {
   "cell_type": "markdown",
   "metadata": {},
   "source": [
    "Эта модель на public leaderboard получила **0.66694**"
   ]
  },
  {
   "cell_type": "markdown",
   "metadata": {},
   "source": [
    "Ради интереса посмотрим, сколько получит модель только с признаками сайтов, дат и их взаимодействия"
   ]
  },
  {
   "cell_type": "code",
   "execution_count": 42,
   "metadata": {},
   "outputs": [],
   "source": [
    "# обучение модели\n",
    "!vw --oaa 550 --passes 4 -d tmp/train_w5 -f tmp/model -c -k -b 29 \\\n",
    "--holdout_off --random_seed 19 \\\n",
    "--loss_function logistic --keep SA --interactions SA --quiet\n",
    "\n",
    "# построение предсказаний\n",
    "!vw -i tmp/model -t -d tmp/test_w5 -p tmp/pred_w5_2 --keep SA --interactions SA --quiet\n",
    "\n",
    "# сохранить для отправки на kaggle\n",
    "pred = np.loadtxt('tmp/pred_w5_2', dtype=int)\n",
    "pd.DataFrame(np.vstack((np.arange(1, len(pred)+1), [us_dict_inv[i] for i in pred])).T,\n",
    "             index=None, columns=['session_id', 'user_id']).to_csv('pred_final_2.csv', index=None)"
   ]
  },
  {
   "cell_type": "markdown",
   "metadata": {},
   "source": [
    "И, как ни странно, данная модель показала результат **0.66621**, практически не отличающийся от предыдущего"
   ]
  },
  {
   "cell_type": "markdown",
   "metadata": {},
   "source": [
    "Настройка параметров learning_rate, initial_t, power_t позволила повысить итоговый результат до **0.67777**"
   ]
  },
  {
   "cell_type": "markdown",
   "metadata": {},
   "source": [
    "# Выводы"
   ]
  },
  {
   "cell_type": "markdown",
   "metadata": {},
   "source": [
    "- Определяющими признаками являются посещенные сайты, дата сессии с точностью до часа и взаимодействие этих признаков - использование только их в vowpal wabbit позволяет достичь точности 0.666, все остальные незначительно повышают качество модели\n",
    "\n",
    "\n",
    "- Во время подготовки проекта также были опробованы признаки доменов разных уровней, их tfidf, tfidf сайтов, включая n-граммы (можно добавить в vowpal wabbit в командной строке), но результата они не принесли\n",
    "\n",
    "\n",
    "- Также были испробованы различные параметры vowpal wabbit, которые не принесли результата:  \n",
    " - --csoaa - Cost Sensitive One Against All - oaa c определением cost для каждого класса\n",
    " - --log_multi - online (decision) trees for classes (in log(arg) time)\n",
    " - --recall_tree - тоже реализация онлайн деревьев"
   ]
  },
  {
   "cell_type": "markdown",
   "metadata": {},
   "source": [
    "Что еще хотелось бы попробовать:\n",
    "- подбор параметров vowpal wabbit с hyperopt\n",
    "- xgboost\n",
    "- блендинг моделей"
   ]
  },
  {
   "cell_type": "markdown",
   "metadata": {},
   "source": [
    "Применимость на практике:\n",
    "- данная модель должна неплохо (учитывая количество классов) размечать уже имеющиеся логи - какому пользователю какой принадлежит, но на логах с датами, которых нет в тренировочном датасете, она будет работать хуже. При этом все же можно неплохо проследить за поведением пользователей (куда, когда и как часто заходят)."
   ]
  },
  {
   "cell_type": "markdown",
   "metadata": {},
   "source": [
    "Ну и как итог, я очень доволен данным проектом, во время его выполнения я не только освежил многое изученное в специализации, но и попрактиковался в vowpal wabbit, в визуализациях с помощью разных пакетов (в частности, plotly), виджетах и экстеншнах jupyter."
   ]
  }
 ],
 "metadata": {
  "anaconda-cloud": {},
  "kernelspec": {
   "display_name": "Python 3",
   "language": "python",
   "name": "python3"
  },
  "language_info": {
   "codemirror_mode": {
    "name": "ipython",
    "version": 3
   },
   "file_extension": ".py",
   "mimetype": "text/x-python",
   "name": "python",
   "nbconvert_exporter": "python",
   "pygments_lexer": "ipython3",
   "version": "3.6.6"
  }
 },
 "nbformat": 4,
 "nbformat_minor": 1
}
